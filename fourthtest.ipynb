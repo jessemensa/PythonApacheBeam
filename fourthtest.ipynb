{
 "cells": [
  {
   "cell_type": "code",
   "execution_count": 1,
   "metadata": {},
   "outputs": [
    {
     "name": "stdout",
     "output_type": "stream",
     "text": [
      "Requirement already satisfied: apache-beam[interactive] in /opt/homebrew/lib/python3.10/site-packages (2.43.0)\n",
      "Requirement already satisfied: objsize<0.6.0,>=0.5.2 in /opt/homebrew/lib/python3.10/site-packages (from apache-beam[interactive]) (0.5.2)\n",
      "Requirement already satisfied: crcmod<2.0,>=1.7 in /opt/homebrew/lib/python3.10/site-packages (from apache-beam[interactive]) (1.7)\n",
      "Requirement already satisfied: dill<0.3.2,>=0.3.1.1 in /opt/homebrew/lib/python3.10/site-packages (from apache-beam[interactive]) (0.3.1.1)\n",
      "Requirement already satisfied: typing-extensions>=3.7.0 in /opt/homebrew/lib/python3.10/site-packages (from apache-beam[interactive]) (4.4.0)\n",
      "Requirement already satisfied: regex>=2020.6.8 in /opt/homebrew/lib/python3.10/site-packages (from apache-beam[interactive]) (2022.10.31)\n",
      "Requirement already satisfied: cloudpickle~=2.2.0 in /opt/homebrew/lib/python3.10/site-packages (from apache-beam[interactive]) (2.2.0)\n",
      "Requirement already satisfied: pyarrow<10.0.0,>=0.15.1 in /opt/homebrew/lib/python3.10/site-packages (from apache-beam[interactive]) (9.0.0)\n",
      "Requirement already satisfied: hdfs<3.0.0,>=2.1.0 in /opt/homebrew/lib/python3.10/site-packages (from apache-beam[interactive]) (2.7.0)\n",
      "Requirement already satisfied: fasteners<1.0,>=0.3 in /opt/homebrew/lib/python3.10/site-packages (from apache-beam[interactive]) (0.18)\n",
      "Requirement already satisfied: pydot<2,>=1.2.0 in /opt/homebrew/lib/python3.10/site-packages (from apache-beam[interactive]) (1.4.2)\n",
      "Requirement already satisfied: proto-plus<2,>=1.7.1 in /opt/homebrew/lib/python3.10/site-packages (from apache-beam[interactive]) (1.22.1)\n",
      "Requirement already satisfied: requests<3.0.0,>=2.24.0 in /opt/homebrew/lib/python3.10/site-packages (from apache-beam[interactive]) (2.28.1)\n",
      "Requirement already satisfied: pytz>=2018.3 in /opt/homebrew/lib/python3.10/site-packages (from apache-beam[interactive]) (2022.6)\n",
      "Requirement already satisfied: orjson<4.0 in /opt/homebrew/lib/python3.10/site-packages (from apache-beam[interactive]) (3.8.3)\n",
      "Requirement already satisfied: grpcio!=1.48.0,<2,>=1.33.1 in /opt/homebrew/lib/python3.10/site-packages (from apache-beam[interactive]) (1.51.1)\n",
      "Requirement already satisfied: numpy<1.23.0,>=1.14.3 in /opt/homebrew/lib/python3.10/site-packages (from apache-beam[interactive]) (1.22.4)\n",
      "Requirement already satisfied: protobuf<3.19.5,>3.12.2 in /opt/homebrew/lib/python3.10/site-packages (from apache-beam[interactive]) (3.19.4)\n",
      "Requirement already satisfied: pymongo<4.0.0,>=3.8.0 in /opt/homebrew/lib/python3.10/site-packages (from apache-beam[interactive]) (3.13.0)\n",
      "Requirement already satisfied: zstandard<1,>=0.18.0 in /opt/homebrew/lib/python3.10/site-packages (from apache-beam[interactive]) (0.19.0)\n",
      "Requirement already satisfied: httplib2<0.21.0,>=0.8 in /opt/homebrew/lib/python3.10/site-packages (from apache-beam[interactive]) (0.20.4)\n",
      "Requirement already satisfied: python-dateutil<3,>=2.8.0 in /Users/jessmensa/Library/Python/3.10/lib/python/site-packages (from apache-beam[interactive]) (2.8.2)\n",
      "Requirement already satisfied: fastavro<2,>=0.23.6 in /opt/homebrew/lib/python3.10/site-packages (from apache-beam[interactive]) (1.7.0)\n",
      "Requirement already satisfied: ipykernel<7,>=6 in /Users/jessmensa/Library/Python/3.10/lib/python/site-packages (from apache-beam[interactive]) (6.15.3)\n",
      "Requirement already satisfied: ipywidgets<8,>=7.6.5 in /opt/homebrew/lib/python3.10/site-packages (from apache-beam[interactive]) (7.7.2)\n",
      "Requirement already satisfied: jupyter-client<6.1.13,>=6.1.11 in /opt/homebrew/lib/python3.10/site-packages (from apache-beam[interactive]) (6.1.12)\n",
      "Requirement already satisfied: ipython<9,>=8 in /Users/jessmensa/Library/Python/3.10/lib/python/site-packages (from apache-beam[interactive]) (8.5.0)\n",
      "Requirement already satisfied: facets-overview<2,>=1.0.0 in /opt/homebrew/lib/python3.10/site-packages (from apache-beam[interactive]) (1.0.0)\n",
      "Requirement already satisfied: timeloop<2,>=1.0.2 in /opt/homebrew/lib/python3.10/site-packages (from apache-beam[interactive]) (1.0.2)\n",
      "Requirement already satisfied: google-cloud-dataproc<3.2.0,>=3.0.0 in /opt/homebrew/lib/python3.10/site-packages (from apache-beam[interactive]) (3.1.1)\n",
      "Requirement already satisfied: pandas>=0.22.0 in /opt/homebrew/lib/python3.10/site-packages (from facets-overview<2,>=1.0.0->apache-beam[interactive]) (1.5.2)\n",
      "Requirement already satisfied: google-api-core[grpc]<3.0.0dev,>=1.28.0 in /opt/homebrew/lib/python3.10/site-packages (from google-cloud-dataproc<3.2.0,>=3.0.0->apache-beam[interactive]) (2.8.2)\n",
      "Requirement already satisfied: docopt in /opt/homebrew/lib/python3.10/site-packages (from hdfs<3.0.0,>=2.1.0->apache-beam[interactive]) (0.6.2)\n",
      "Requirement already satisfied: six>=1.9.0 in /Users/jessmensa/Library/Python/3.10/lib/python/site-packages (from hdfs<3.0.0,>=2.1.0->apache-beam[interactive]) (1.16.0)\n",
      "Requirement already satisfied: pyparsing!=3.0.0,!=3.0.1,!=3.0.2,!=3.0.3,<4,>=2.4.2 in /Users/jessmensa/Library/Python/3.10/lib/python/site-packages (from httplib2<0.21.0,>=0.8->apache-beam[interactive]) (3.0.9)\n",
      "Requirement already satisfied: psutil in /Users/jessmensa/Library/Python/3.10/lib/python/site-packages (from ipykernel<7,>=6->apache-beam[interactive]) (5.9.2)\n",
      "Requirement already satisfied: appnope in /Users/jessmensa/Library/Python/3.10/lib/python/site-packages (from ipykernel<7,>=6->apache-beam[interactive]) (0.1.3)\n",
      "Requirement already satisfied: nest-asyncio in /Users/jessmensa/Library/Python/3.10/lib/python/site-packages (from ipykernel<7,>=6->apache-beam[interactive]) (1.5.5)\n",
      "Requirement already satisfied: debugpy>=1.0 in /Users/jessmensa/Library/Python/3.10/lib/python/site-packages (from ipykernel<7,>=6->apache-beam[interactive]) (1.6.3)\n",
      "Requirement already satisfied: packaging in /Users/jessmensa/Library/Python/3.10/lib/python/site-packages (from ipykernel<7,>=6->apache-beam[interactive]) (21.3)\n",
      "Requirement already satisfied: tornado>=6.1 in /Users/jessmensa/Library/Python/3.10/lib/python/site-packages (from ipykernel<7,>=6->apache-beam[interactive]) (6.2)\n",
      "Requirement already satisfied: pyzmq>=17 in /Users/jessmensa/Library/Python/3.10/lib/python/site-packages (from ipykernel<7,>=6->apache-beam[interactive]) (24.0.1)\n",
      "Requirement already satisfied: matplotlib-inline>=0.1 in /Users/jessmensa/Library/Python/3.10/lib/python/site-packages (from ipykernel<7,>=6->apache-beam[interactive]) (0.1.6)\n",
      "Requirement already satisfied: traitlets>=5.1.0 in /Users/jessmensa/Library/Python/3.10/lib/python/site-packages (from ipykernel<7,>=6->apache-beam[interactive]) (5.4.0)\n",
      "Requirement already satisfied: decorator in /Users/jessmensa/Library/Python/3.10/lib/python/site-packages (from ipython<9,>=8->apache-beam[interactive]) (5.1.1)\n",
      "Requirement already satisfied: pickleshare in /Users/jessmensa/Library/Python/3.10/lib/python/site-packages (from ipython<9,>=8->apache-beam[interactive]) (0.7.5)\n",
      "Requirement already satisfied: backcall in /Users/jessmensa/Library/Python/3.10/lib/python/site-packages (from ipython<9,>=8->apache-beam[interactive]) (0.2.0)\n",
      "Requirement already satisfied: pexpect>4.3 in /Users/jessmensa/Library/Python/3.10/lib/python/site-packages (from ipython<9,>=8->apache-beam[interactive]) (4.8.0)\n",
      "Requirement already satisfied: stack-data in /Users/jessmensa/Library/Python/3.10/lib/python/site-packages (from ipython<9,>=8->apache-beam[interactive]) (0.5.0)\n",
      "Requirement already satisfied: prompt-toolkit<3.1.0,>3.0.1 in /Users/jessmensa/Library/Python/3.10/lib/python/site-packages (from ipython<9,>=8->apache-beam[interactive]) (3.0.31)\n",
      "Requirement already satisfied: pygments>=2.4.0 in /Users/jessmensa/Library/Python/3.10/lib/python/site-packages (from ipython<9,>=8->apache-beam[interactive]) (2.13.0)\n",
      "Requirement already satisfied: jedi>=0.16 in /Users/jessmensa/Library/Python/3.10/lib/python/site-packages (from ipython<9,>=8->apache-beam[interactive]) (0.18.1)\n",
      "Requirement already satisfied: jupyterlab-widgets<3,>=1.0.0 in /opt/homebrew/lib/python3.10/site-packages (from ipywidgets<8,>=7.6.5->apache-beam[interactive]) (1.1.1)\n",
      "Requirement already satisfied: widgetsnbextension~=3.6.0 in /opt/homebrew/lib/python3.10/site-packages (from ipywidgets<8,>=7.6.5->apache-beam[interactive]) (3.6.1)\n",
      "Requirement already satisfied: ipython-genutils~=0.2.0 in /Users/jessmensa/Library/Python/3.10/lib/python/site-packages (from ipywidgets<8,>=7.6.5->apache-beam[interactive]) (0.2.0)\n",
      "Requirement already satisfied: jupyter-core>=4.6.0 in /Users/jessmensa/Library/Python/3.10/lib/python/site-packages (from jupyter-client<6.1.13,>=6.1.11->apache-beam[interactive]) (4.11.1)\n",
      "Requirement already satisfied: urllib3<1.27,>=1.21.1 in /opt/homebrew/lib/python3.10/site-packages (from requests<3.0.0,>=2.24.0->apache-beam[interactive]) (1.26.13)\n",
      "Requirement already satisfied: charset-normalizer<3,>=2 in /opt/homebrew/lib/python3.10/site-packages (from requests<3.0.0,>=2.24.0->apache-beam[interactive]) (2.1.1)\n",
      "Requirement already satisfied: idna<4,>=2.5 in /opt/homebrew/lib/python3.10/site-packages (from requests<3.0.0,>=2.24.0->apache-beam[interactive]) (3.4)\n",
      "Requirement already satisfied: certifi>=2017.4.17 in /opt/homebrew/lib/python3.10/site-packages (from requests<3.0.0,>=2.24.0->apache-beam[interactive]) (2022.9.24)\n",
      "Requirement already satisfied: google-auth<3.0dev,>=1.25.0 in /opt/homebrew/lib/python3.10/site-packages (from google-api-core[grpc]<3.0.0dev,>=1.28.0->google-cloud-dataproc<3.2.0,>=3.0.0->apache-beam[interactive]) (2.15.0)\n",
      "Requirement already satisfied: googleapis-common-protos<2.0dev,>=1.56.2 in /opt/homebrew/lib/python3.10/site-packages (from google-api-core[grpc]<3.0.0dev,>=1.28.0->google-cloud-dataproc<3.2.0,>=3.0.0->apache-beam[interactive]) (1.56.4)\n",
      "Requirement already satisfied: grpcio-status<2.0dev,>=1.33.2 in /opt/homebrew/lib/python3.10/site-packages (from google-api-core[grpc]<3.0.0dev,>=1.28.0->google-cloud-dataproc<3.2.0,>=3.0.0->apache-beam[interactive]) (1.48.2)\n",
      "Requirement already satisfied: parso<0.9.0,>=0.8.0 in /Users/jessmensa/Library/Python/3.10/lib/python/site-packages (from jedi>=0.16->ipython<9,>=8->apache-beam[interactive]) (0.8.3)\n",
      "Requirement already satisfied: ptyprocess>=0.5 in /Users/jessmensa/Library/Python/3.10/lib/python/site-packages (from pexpect>4.3->ipython<9,>=8->apache-beam[interactive]) (0.7.0)\n",
      "Requirement already satisfied: wcwidth in /Users/jessmensa/Library/Python/3.10/lib/python/site-packages (from prompt-toolkit<3.1.0,>3.0.1->ipython<9,>=8->apache-beam[interactive]) (0.2.5)\n",
      "Requirement already satisfied: notebook>=4.4.1 in /Users/jessmensa/Library/Python/3.10/lib/python/site-packages (from widgetsnbextension~=3.6.0->ipywidgets<8,>=7.6.5->apache-beam[interactive]) (6.4.12)\n",
      "Requirement already satisfied: executing in /Users/jessmensa/Library/Python/3.10/lib/python/site-packages (from stack-data->ipython<9,>=8->apache-beam[interactive]) (1.0.0)\n",
      "Requirement already satisfied: asttokens in /Users/jessmensa/Library/Python/3.10/lib/python/site-packages (from stack-data->ipython<9,>=8->apache-beam[interactive]) (2.0.8)\n",
      "Requirement already satisfied: pure-eval in /Users/jessmensa/Library/Python/3.10/lib/python/site-packages (from stack-data->ipython<9,>=8->apache-beam[interactive]) (0.2.2)\n",
      "Requirement already satisfied: rsa<5,>=3.1.4 in /opt/homebrew/lib/python3.10/site-packages (from google-auth<3.0dev,>=1.25.0->google-api-core[grpc]<3.0.0dev,>=1.28.0->google-cloud-dataproc<3.2.0,>=3.0.0->apache-beam[interactive]) (4.9)\n",
      "Requirement already satisfied: pyasn1-modules>=0.2.1 in /opt/homebrew/lib/python3.10/site-packages (from google-auth<3.0dev,>=1.25.0->google-api-core[grpc]<3.0.0dev,>=1.28.0->google-cloud-dataproc<3.2.0,>=3.0.0->apache-beam[interactive]) (0.2.8)\n",
      "Requirement already satisfied: cachetools<6.0,>=2.0.0 in /opt/homebrew/lib/python3.10/site-packages (from google-auth<3.0dev,>=1.25.0->google-api-core[grpc]<3.0.0dev,>=1.28.0->google-cloud-dataproc<3.2.0,>=3.0.0->apache-beam[interactive]) (5.2.0)\n",
      "Requirement already satisfied: Send2Trash>=1.8.0 in /Users/jessmensa/Library/Python/3.10/lib/python/site-packages (from notebook>=4.4.1->widgetsnbextension~=3.6.0->ipywidgets<8,>=7.6.5->apache-beam[interactive]) (1.8.0)\n",
      "Requirement already satisfied: argon2-cffi in /Users/jessmensa/Library/Python/3.10/lib/python/site-packages (from notebook>=4.4.1->widgetsnbextension~=3.6.0->ipywidgets<8,>=7.6.5->apache-beam[interactive]) (21.3.0)\n",
      "Requirement already satisfied: nbconvert>=5 in /Users/jessmensa/Library/Python/3.10/lib/python/site-packages (from notebook>=4.4.1->widgetsnbextension~=3.6.0->ipywidgets<8,>=7.6.5->apache-beam[interactive]) (7.0.0)\n",
      "Requirement already satisfied: terminado>=0.8.3 in /Users/jessmensa/Library/Python/3.10/lib/python/site-packages (from notebook>=4.4.1->widgetsnbextension~=3.6.0->ipywidgets<8,>=7.6.5->apache-beam[interactive]) (0.15.0)\n",
      "Requirement already satisfied: prometheus-client in /Users/jessmensa/Library/Python/3.10/lib/python/site-packages (from notebook>=4.4.1->widgetsnbextension~=3.6.0->ipywidgets<8,>=7.6.5->apache-beam[interactive]) (0.14.1)\n",
      "Requirement already satisfied: nbformat in /Users/jessmensa/Library/Python/3.10/lib/python/site-packages (from notebook>=4.4.1->widgetsnbextension~=3.6.0->ipywidgets<8,>=7.6.5->apache-beam[interactive]) (5.6.0)\n",
      "Requirement already satisfied: jinja2 in /Users/jessmensa/Library/Python/3.10/lib/python/site-packages (from notebook>=4.4.1->widgetsnbextension~=3.6.0->ipywidgets<8,>=7.6.5->apache-beam[interactive]) (3.1.2)\n",
      "Requirement already satisfied: nbclient>=0.5.0 in /Users/jessmensa/Library/Python/3.10/lib/python/site-packages (from nbconvert>=5->notebook>=4.4.1->widgetsnbextension~=3.6.0->ipywidgets<8,>=7.6.5->apache-beam[interactive]) (0.6.8)\n",
      "Requirement already satisfied: defusedxml in /Users/jessmensa/Library/Python/3.10/lib/python/site-packages (from nbconvert>=5->notebook>=4.4.1->widgetsnbextension~=3.6.0->ipywidgets<8,>=7.6.5->apache-beam[interactive]) (0.7.1)\n",
      "Requirement already satisfied: bleach in /Users/jessmensa/Library/Python/3.10/lib/python/site-packages (from nbconvert>=5->notebook>=4.4.1->widgetsnbextension~=3.6.0->ipywidgets<8,>=7.6.5->apache-beam[interactive]) (5.0.1)\n",
      "Requirement already satisfied: markupsafe>=2.0 in /Users/jessmensa/Library/Python/3.10/lib/python/site-packages (from nbconvert>=5->notebook>=4.4.1->widgetsnbextension~=3.6.0->ipywidgets<8,>=7.6.5->apache-beam[interactive]) (2.1.1)\n",
      "Requirement already satisfied: pandocfilters>=1.4.1 in /Users/jessmensa/Library/Python/3.10/lib/python/site-packages (from nbconvert>=5->notebook>=4.4.1->widgetsnbextension~=3.6.0->ipywidgets<8,>=7.6.5->apache-beam[interactive]) (1.5.0)\n",
      "Requirement already satisfied: mistune<3,>=2.0.3 in /Users/jessmensa/Library/Python/3.10/lib/python/site-packages (from nbconvert>=5->notebook>=4.4.1->widgetsnbextension~=3.6.0->ipywidgets<8,>=7.6.5->apache-beam[interactive]) (2.0.4)\n",
      "Requirement already satisfied: jupyterlab-pygments in /Users/jessmensa/Library/Python/3.10/lib/python/site-packages (from nbconvert>=5->notebook>=4.4.1->widgetsnbextension~=3.6.0->ipywidgets<8,>=7.6.5->apache-beam[interactive]) (0.2.2)\n",
      "Requirement already satisfied: beautifulsoup4 in /Users/jessmensa/Library/Python/3.10/lib/python/site-packages (from nbconvert>=5->notebook>=4.4.1->widgetsnbextension~=3.6.0->ipywidgets<8,>=7.6.5->apache-beam[interactive]) (4.11.1)\n",
      "Requirement already satisfied: lxml in /Users/jessmensa/Library/Python/3.10/lib/python/site-packages (from nbconvert>=5->notebook>=4.4.1->widgetsnbextension~=3.6.0->ipywidgets<8,>=7.6.5->apache-beam[interactive]) (4.9.1)\n",
      "Requirement already satisfied: tinycss2 in /Users/jessmensa/Library/Python/3.10/lib/python/site-packages (from nbconvert>=5->notebook>=4.4.1->widgetsnbextension~=3.6.0->ipywidgets<8,>=7.6.5->apache-beam[interactive]) (1.1.1)\n",
      "Requirement already satisfied: fastjsonschema in /Users/jessmensa/Library/Python/3.10/lib/python/site-packages (from nbformat->notebook>=4.4.1->widgetsnbextension~=3.6.0->ipywidgets<8,>=7.6.5->apache-beam[interactive]) (2.16.2)\n",
      "Requirement already satisfied: jsonschema>=2.6 in /Users/jessmensa/Library/Python/3.10/lib/python/site-packages (from nbformat->notebook>=4.4.1->widgetsnbextension~=3.6.0->ipywidgets<8,>=7.6.5->apache-beam[interactive]) (4.16.0)\n",
      "Requirement already satisfied: pyasn1<0.5.0,>=0.4.6 in /opt/homebrew/lib/python3.10/site-packages (from pyasn1-modules>=0.2.1->google-auth<3.0dev,>=1.25.0->google-api-core[grpc]<3.0.0dev,>=1.28.0->google-cloud-dataproc<3.2.0,>=3.0.0->apache-beam[interactive]) (0.4.8)\n",
      "Requirement already satisfied: argon2-cffi-bindings in /Users/jessmensa/Library/Python/3.10/lib/python/site-packages (from argon2-cffi->notebook>=4.4.1->widgetsnbextension~=3.6.0->ipywidgets<8,>=7.6.5->apache-beam[interactive]) (21.2.0)\n",
      "Requirement already satisfied: attrs>=17.4.0 in /Users/jessmensa/Library/Python/3.10/lib/python/site-packages (from jsonschema>=2.6->nbformat->notebook>=4.4.1->widgetsnbextension~=3.6.0->ipywidgets<8,>=7.6.5->apache-beam[interactive]) (22.1.0)\n",
      "Requirement already satisfied: pyrsistent!=0.17.0,!=0.17.1,!=0.17.2,>=0.14.0 in /Users/jessmensa/Library/Python/3.10/lib/python/site-packages (from jsonschema>=2.6->nbformat->notebook>=4.4.1->widgetsnbextension~=3.6.0->ipywidgets<8,>=7.6.5->apache-beam[interactive]) (0.18.1)\n",
      "Requirement already satisfied: cffi>=1.0.1 in /Users/jessmensa/Library/Python/3.10/lib/python/site-packages (from argon2-cffi-bindings->argon2-cffi->notebook>=4.4.1->widgetsnbextension~=3.6.0->ipywidgets<8,>=7.6.5->apache-beam[interactive]) (1.15.1)\n",
      "Requirement already satisfied: soupsieve>1.2 in /Users/jessmensa/Library/Python/3.10/lib/python/site-packages (from beautifulsoup4->nbconvert>=5->notebook>=4.4.1->widgetsnbextension~=3.6.0->ipywidgets<8,>=7.6.5->apache-beam[interactive]) (2.3.2.post1)\n",
      "Requirement already satisfied: webencodings in /Users/jessmensa/Library/Python/3.10/lib/python/site-packages (from bleach->nbconvert>=5->notebook>=4.4.1->widgetsnbextension~=3.6.0->ipywidgets<8,>=7.6.5->apache-beam[interactive]) (0.5.1)\n",
      "Requirement already satisfied: pycparser in /Users/jessmensa/Library/Python/3.10/lib/python/site-packages (from cffi>=1.0.1->argon2-cffi-bindings->argon2-cffi->notebook>=4.4.1->widgetsnbextension~=3.6.0->ipywidgets<8,>=7.6.5->apache-beam[interactive]) (2.21)\n",
      "\n",
      "\u001b[1m[\u001b[0m\u001b[34;49mnotice\u001b[0m\u001b[1;39;49m]\u001b[0m\u001b[39;49m A new release of pip available: \u001b[0m\u001b[31;49m22.2.2\u001b[0m\u001b[39;49m -> \u001b[0m\u001b[32;49m22.3.1\u001b[0m\n",
      "\u001b[1m[\u001b[0m\u001b[34;49mnotice\u001b[0m\u001b[1;39;49m]\u001b[0m\u001b[39;49m To update, run: \u001b[0m\u001b[32;49mpython3.10 -m pip install --upgrade pip\u001b[0m\n",
      "Note: you may need to restart the kernel to use updated packages.\n"
     ]
    }
   ],
   "source": [
    "pip install apache-beam[interactive] "
   ]
  },
  {
   "cell_type": "code",
   "execution_count": 2,
   "metadata": {},
   "outputs": [],
   "source": [
    "import apache_beam as beam "
   ]
  },
  {
   "cell_type": "code",
   "execution_count": 3,
   "metadata": {},
   "outputs": [
    {
     "data": {
      "application/javascript": "\n        if (typeof window.interactive_beam_jquery == 'undefined') {\n          var jqueryScript = document.createElement('script');\n          jqueryScript.src = 'https://code.jquery.com/jquery-3.4.1.slim.min.js';\n          jqueryScript.type = 'text/javascript';\n          jqueryScript.onload = function() {\n            var datatableScript = document.createElement('script');\n            datatableScript.src = 'https://cdn.datatables.net/1.10.20/js/jquery.dataTables.min.js';\n            datatableScript.type = 'text/javascript';\n            datatableScript.onload = function() {\n              window.interactive_beam_jquery = jQuery.noConflict(true);\n              window.interactive_beam_jquery(document).ready(function($){\n                \n              });\n            }\n            document.head.appendChild(datatableScript);\n          };\n          document.head.appendChild(jqueryScript);\n        } else {\n          window.interactive_beam_jquery(document).ready(function($){\n            \n          });\n        }"
     },
     "metadata": {},
     "output_type": "display_data"
    },
    {
     "name": "stdout",
     "output_type": "stream",
     "text": [
      "['2019-04-27,19805,2,LAX,JFK,944,14,1736,-29,269,2475,2']\n",
      "['2019-04-27,19805,3,JFK,LAX,1224,-6,1614,39,371,2475,3']\n",
      "['2019-04-27,19805,4,LAX,JFK,1240,25,2028,-27,264,2475,4']\n",
      "['2019-04-27,19805,5,DFW,HNL,1300,-5,1650,15,510,3784,5']\n",
      "['2019-04-27,19805,6,OGG,DFW,1901,126,640,95,385,3711,6']\n",
      "['2019-04-27,19805,7,DFW,OGG,1410,125,1743,138,497,3711,7']\n",
      "['2019-04-27,19805,8,HNL,DFW,1659,4,458,-22,398,3784,8']\n",
      "['2019-04-27,19805,9,JFK,LAX,648,-7,1029,19,365,2475,9']\n",
      "['2019-04-27,19805,10,LAX,JFK,2156,21,556,1,265,2475,10']\n",
      "['2019-04-27,19805,12,LAX,JFK,1113,-2,1910,-40,267,2475,11']\n",
      "['2019-04-27,19805,14,OGG,LAX,2235,5,618,-17,270,2486,12']\n",
      "['2019-04-27,19805,15,BOS,ORD,611,-9,756,-19,129,867,13']\n",
      "['2019-04-27,19805,16,SFO,JFK,1312,17,2107,-33,268,2586,14']\n",
      "['2019-04-27,19805,17,ATL,MIA,630,-5,813,-17,83,594,15']\n",
      "['2019-04-27,19805,18,SFO,JFK,22,112,833,88,288,2586,16']\n",
      "['2019-04-27,19805,19,JFK,LAX,1024,-6,1353,18,359,2475,17']\n",
      "['2019-04-27,19805,20,SFO,JFK,1715,135,130,120,277,2586,18']\n",
      "['2019-04-27,19805,21,JFK,LAX,1906,-4,2246,16,359,2475,19']\n",
      "['2019-04-27,19805,22,LAX,JFK,1458,-2,2336,11,272,2475,20']\n"
     ]
    },
    {
     "data": {
      "text/plain": [
       "<apache_beam.runners.portability.fn_api_runner.fn_runner.RunnerResult at 0x13db3d540>"
      ]
     },
     "execution_count": 3,
     "metadata": {},
     "output_type": "execute_result"
    }
   ],
   "source": [
    "p1 = beam.Pipeline() # declare pipeline as p1 \n",
    "\n",
    "# what is the pcollection? \n",
    "Pcollection = (\n",
    "p1 \n",
    "   # read files \n",
    "   | \"Import Data\" >> beam.io.ReadFromText(\"voos_sample.csv\", skip_header_lines=1) # readfromtext method to read the csv file\n",
    "   | \"Split Data\" >> beam.Map(lambda record: record.split(\", \"))  # what is this ?? \n",
    "   | \"Print Results\" >> beam.Map(print) \n",
    ")\n",
    "\n",
    "p1.run() "
   ]
  },
  {
   "cell_type": "code",
   "execution_count": 4,
   "metadata": {},
   "outputs": [
    {
     "name": "stdout",
     "output_type": "stream",
     "text": [
      "1\n",
      "2\n",
      "3\n"
     ]
    },
    {
     "data": {
      "text/plain": [
       "<apache_beam.runners.portability.fn_api_runner.fn_runner.RunnerResult at 0x13dc26650>"
      ]
     },
     "execution_count": 4,
     "metadata": {},
     "output_type": "execute_result"
    }
   ],
   "source": [
    "import apache_beam as beam \n",
    "\n",
    "p1 = beam.Pipeline() \n",
    "\n",
    "p1 | \"List\" >> beam.Create([1, 2, 3]) | beam.Map(print) \n",
    "\n",
    "p1.run() "
   ]
  },
  {
   "cell_type": "code",
   "execution_count": 5,
   "metadata": {},
   "outputs": [
    {
     "data": {
      "text/plain": [
       "<apache_beam.runners.portability.fn_api_runner.fn_runner.RunnerResult at 0x13dde4b20>"
      ]
     },
     "execution_count": 5,
     "metadata": {},
     "output_type": "execute_result"
    }
   ],
   "source": [
    "p1 = beam.Pipeline() # declare pipeline as p1 \n",
    "\n",
    "# write to a file  \n",
    "Pcollection = (\n",
    "p1 \n",
    "   # read files \n",
    "   | \"Import Data\" >> beam.io.ReadFromText(\"voos_sample.csv\", skip_header_lines=1) # readfromtext method to read the csv file\n",
    "   | \"Split Data\" >> beam.Map(lambda record: record.split(', '))  # what is this ?? \n",
    "   | \"Write Results\" >> beam.io.WriteToText(\"Flights.txt\") # different options, WriteToPubSub, WriteToBigQuery \n",
    ")\n",
    "\n",
    "p1.run() "
   ]
  },
  {
   "cell_type": "code",
   "execution_count": 7,
   "metadata": {},
   "outputs": [
    {
     "name": "stdout",
     "output_type": "stream",
     "text": [
      "20\n",
      "30\n",
      "40\n",
      "50\n",
      "60\n",
      "70\n",
      "80\n",
      "90\n",
      "100\n",
      "120\n",
      "140\n",
      "150\n",
      "160\n",
      "170\n",
      "180\n",
      "190\n",
      "200\n",
      "210\n",
      "220\n"
     ]
    },
    {
     "data": {
      "text/plain": [
       "<apache_beam.runners.portability.fn_api_runner.fn_runner.RunnerResult at 0x14ebc8850>"
      ]
     },
     "execution_count": 7,
     "metadata": {},
     "output_type": "execute_result"
    }
   ],
   "source": [
    "import apache_beam as beam \n",
    "# Map & Flat Map \n",
    "\n",
    "p1 = beam.Pipeline() \n",
    "\n",
    "voos = (\n",
    "   p1 \n",
    "     | \"Import Data\" >> beam.io.ReadFromText(\"voos_sample.csv\", skip_header_lines=1) # readfromtext method to read the csv file\n",
    "     | \"Split Data\" >> beam.Map(lambda record: record.split(','))  # what is this ?? \n",
    "     | beam.Map(lambda record: int(record[2]) * 10)\n",
    "     | \"Print Results\" >> beam.Map(print)\n",
    ")\n",
    "\n",
    "p1.run() "
   ]
  },
  {
   "cell_type": "code",
   "execution_count": 8,
   "metadata": {},
   "outputs": [
    {
     "data": {
      "text/plain": [
       "<apache_beam.runners.portability.fn_api_runner.fn_runner.RunnerResult at 0x14ed3c820>"
      ]
     },
     "execution_count": 8,
     "metadata": {},
     "output_type": "execute_result"
    }
   ],
   "source": [
    "# FlatMap => \n",
    "\n",
    "import apache_beam as beam \n",
    "# Map & Flat Map \n",
    "\n",
    "p1 = beam.Pipeline() \n",
    "\n",
    "voos = (\n",
    "   p1 \n",
    "     | beam.io.ReadFromText(\"Poem.txt\") # readfromtext method to read the csv file\n",
    "     | beam.FlatMap(lambda record: record.split(' ')) \n",
    "     | beam.io.WriteToText('result.txt')\n",
    ")\n",
    "\n",
    "p1.run() "
   ]
  },
  {
   "cell_type": "code",
   "execution_count": 9,
   "metadata": {},
   "outputs": [
    {
     "name": "stdout",
     "output_type": "stream",
     "text": [
      "['2019-04-27', '19805', '2', 'LAX', 'JFK', '944', '14', '1736', '-29', '269', '2475', '2']\n",
      "['2019-04-27', '19805', '4', 'LAX', 'JFK', '1240', '25', '2028', '-27', '264', '2475', '4']\n",
      "['2019-04-27', '19805', '10', 'LAX', 'JFK', '2156', '21', '556', '1', '265', '2475', '10']\n",
      "['2019-04-27', '19805', '12', 'LAX', 'JFK', '1113', '-2', '1910', '-40', '267', '2475', '11']\n",
      "['2019-04-27', '19805', '22', 'LAX', 'JFK', '1458', '-2', '2336', '11', '272', '2475', '20']\n"
     ]
    },
    {
     "data": {
      "text/plain": [
       "<apache_beam.runners.portability.fn_api_runner.fn_runner.RunnerResult at 0x14ebb6530>"
      ]
     },
     "execution_count": 9,
     "metadata": {},
     "output_type": "execute_result"
    }
   ],
   "source": [
    "# Beam Filter function \n",
    "import apache_beam as beam \n",
    "\n",
    "p1 = beam.Pipeline() \n",
    "\n",
    "voos = (\n",
    "    p1 \n",
    "    | beam.io.ReadFromText(\"voos_sample.csv\", skip_header_lines=1) # readfromtext method to read the csv file\n",
    "    | \"split by comma\" >> beam.Map(lambda record: record.split(','))  \n",
    "    | \"filter by LA flights\" >> beam.Filter(lambda record: record[3] == \"LAX\") \n",
    "    | \"Print Results\" >> beam.Map(print) \n",
    ")\n",
    "\n",
    "p1.run() "
   ]
  },
  {
   "cell_type": "code",
   "execution_count": 10,
   "metadata": {},
   "outputs": [
    {
     "data": {
      "text/plain": [
       "<apache_beam.runners.portability.fn_api_runner.fn_runner.RunnerResult at 0x14eee26b0>"
      ]
     },
     "execution_count": 10,
     "metadata": {},
     "output_type": "execute_result"
    }
   ],
   "source": [
    "# Filter List \n",
    "import apache_beam as beam \n",
    "\n",
    "words = [\"quatro\", \"um\"] \n",
    "\n",
    "def findWords(i): \n",
    "    if i in words:\n",
    "        return True \n",
    "\n",
    "p1 = beam.Pipeline() \n",
    "\n",
    "collection = (\n",
    "    p1 \n",
    "    |beam.io.ReadFromText('Poem.txt') \n",
    "    |beam.FlatMap(lambda record: record.split(' ')) \n",
    "    |beam.Filter(findWords) \n",
    "    |beam.io.WriteToText('resulti.txt') \n",
    ")\n",
    "\n",
    "p1.run() "
   ]
  },
  {
   "cell_type": "code",
   "execution_count": 11,
   "metadata": {},
   "outputs": [
    {
     "name": "stdout",
     "output_type": "stream",
     "text": [
      "Sheriff\n",
      "Charlotte\n",
      "David\n",
      "Vic\n",
      "Marta\n",
      "Tom\n",
      "Jesse\n",
      "Mensah\n",
      "Amoako\n"
     ]
    },
    {
     "data": {
      "text/plain": [
       "<apache_beam.runners.portability.fn_api_runner.fn_runner.RunnerResult at 0x14f19c4c0>"
      ]
     },
     "execution_count": 11,
     "metadata": {},
     "output_type": "execute_result"
    }
   ],
   "source": [
    "# BEAM FLATTEN => PERFORM A UNION \n",
    "# Data types must be the same when flatten \n",
    "\n",
    "import apache_beam as beam \n",
    "\n",
    "p = beam.Pipeline() \n",
    "\n",
    "black = ('Jesse', 'Mensah', 'Amoako') \n",
    "white = ('Sheriff', 'Charlotte', 'David') \n",
    "first_nations = ('Vic', 'Marta', 'Tom') \n",
    "\n",
    "black_pc = p | \"Creating Pcollection black\" >> beam.Create(black) \n",
    "white_pc = p | \"Creating Pcollection white\" >> beam.Create(white) \n",
    "first_nations_pc = p | \"Creating Pcollection first_nations\" >> beam.Create(first_nations)\n",
    "\n",
    "people = (\n",
    "    (black_pc, white_pc, first_nations_pc) \n",
    "     | beam.Flatten() \n",
    "     | beam.Map(print) \n",
    ")\n",
    "\n",
    "p.run() "
   ]
  },
  {
   "cell_type": "code",
   "execution_count": 12,
   "metadata": {},
   "outputs": [
    {
     "name": "stdout",
     "output_type": "stream",
     "text": [
      "('LAX', 92)\n",
      "('HNL', 15)\n",
      "('DFW', 95)\n",
      "('OGG', 138)\n",
      "('JFK', 220)\n"
     ]
    },
    {
     "data": {
      "text/plain": [
       "<apache_beam.runners.portability.fn_api_runner.fn_runner.RunnerResult at 0x14f243f70>"
      ]
     },
     "execution_count": 12,
     "metadata": {},
     "output_type": "execute_result"
    }
   ],
   "source": [
    "# BEAM COMBINE PER KEY ?? create a key value pair \n",
    "import apache_beam as beam \n",
    "\n",
    "p1 = beam.Pipeline() \n",
    "\n",
    "Delayed_time = (\n",
    "    p1 \n",
    "    | \"Import Data\" >> beam.io.ReadFromText(\"voos_sample.csv\", skip_header_lines=1) # readfromtext method to read the csv file \n",
    "    | \"Split by comma\" >> beam.Map(lambda record: record.split(',')) \n",
    "    | \"Filter Delays\" >> beam.Filter(lambda record: int(record[8]) > 0) \n",
    "    | \"Create key value pair\" >> beam.Map(lambda record: (record[4], int(record[8])))\n",
    "    | \"Sum by key\" >> beam.CombinePerKey(sum) \n",
    "    | \"Print Results\" >> beam.Map(print) \n",
    ")\n",
    "\n",
    "p1.run() \n",
    "\n"
   ]
  },
  {
   "cell_type": "code",
   "execution_count": 16,
   "metadata": {},
   "outputs": [
    {
     "name": "stdout",
     "output_type": "stream",
     "text": [
      "('LAX', 4)\n",
      "('HNL', 1)\n",
      "('DFW', 1)\n",
      "('OGG', 1)\n",
      "('JFK', 4)\n"
     ]
    },
    {
     "data": {
      "text/plain": [
       "<apache_beam.runners.portability.fn_api_runner.fn_runner.RunnerResult at 0x14ec965c0>"
      ]
     },
     "execution_count": 16,
     "metadata": {},
     "output_type": "execute_result"
    }
   ],
   "source": [
    "# COMBINERS.COUNT.PERKEY\n",
    "import apache_beam as beam \n",
    "\n",
    "p1 = beam.Pipeline() \n",
    "\n",
    "Delayed_time = (\n",
    "    p1 \n",
    "    | \"Import Data\" >> beam.io.ReadFromText(\"voos_sample.csv\", skip_header_lines=1) # readfromtext method to read the csv file \n",
    "    | \"Split by comma\" >> beam.Map(lambda record: record.split(',')) \n",
    "    | \"Filter Delays\" >> beam.Filter(lambda record: int(record[8]) > 0) \n",
    "    | \"Create key value pair\" >> beam.Map(lambda record: (record[4], int(record[8])))\n",
    "    | \"Count per key\" >> beam.combiners.Count.PerKey() \n",
    "    | \"Print Results\" >> beam.Map(print) \n",
    ")\n",
    "\n",
    "p1.run() "
   ]
  },
  {
   "cell_type": "code",
   "execution_count": 25,
   "metadata": {},
   "outputs": [
    {
     "name": "stdout",
     "output_type": "stream",
     "text": [
      "('LAX', {'Delayed_num': [4], 'Delayed_time': [92]})\n",
      "('HNL', {'Delayed_num': [1], 'Delayed_time': [15]})\n",
      "('DFW', {'Delayed_num': [1], 'Delayed_time': [95]})\n",
      "('OGG', {'Delayed_num': [1], 'Delayed_time': [138]})\n",
      "('JFK', {'Delayed_num': [4], 'Delayed_time': [220]})\n"
     ]
    },
    {
     "data": {
      "text/plain": [
       "<apache_beam.runners.portability.fn_api_runner.fn_runner.RunnerResult at 0x168417ac0>"
      ]
     },
     "execution_count": 25,
     "metadata": {},
     "output_type": "execute_result"
    }
   ],
   "source": [
    "# BEAM COGROUPBYKEY => performs a join of two pcollections by one key \n",
    "p1 = beam.Pipeline()\n",
    "\n",
    "\n",
    "Delayed_time = (\n",
    "  p1\n",
    "  | \"Import Data\" >> beam.io.ReadFromText(\"voos_sample.csv\", skip_header_lines = 1)\n",
    "  | \"Split by comma\" >> beam.Map(lambda record: record.split(','))\n",
    "  | \"Filter Delays\" >> beam.Filter(lambda record: int(record[8]) > 0 )\n",
    "  | \"Create a key-value\" >> beam.Map(lambda record: (record[4],int(record[8])))\n",
    "  | \"Sum by key\" >> beam.CombinePerKey(sum)\n",
    "\n",
    ")\n",
    "\n",
    "Delayed_num = (\n",
    "  p1 \n",
    "    | \"Import Data Num\" >> beam.io.ReadFromText(\"voos_sample.csv\", skip_header_lines = 1)\n",
    "    | \"Split by comma Num\" >> beam.Map(lambda record: record.split(','))\n",
    "    | \"Filter Delays Num\" >> beam.Filter(lambda record: int(record[8]) > 0 )\n",
    "    | \"Create a key-value Num\" >> beam.Map(lambda record: (record[4],int(record[8])))\n",
    "    | \"Combine by key\" >> beam.combiners.Count.PerKey()\n",
    "\n",
    ")\n",
    "\n",
    "Delay_table = (\n",
    "    {'Delayed_num':Delayed_num,'Delayed_time':Delayed_time} \n",
    "    | beam.CoGroupByKey()\n",
    "    | beam.Map(print)\n",
    ")\n",
    "\n",
    "p1.run()"
   ]
  },
  {
   "cell_type": "code",
   "execution_count": 26,
   "metadata": {},
   "outputs": [
    {
     "name": "stdout",
     "output_type": "stream",
     "text": [
      "('LAX', {'Delayed_num': [4], 'Delayed_time': [92]})\n",
      "('HNL', {'Delayed_num': [1], 'Delayed_time': [15]})\n",
      "('DFW', {'Delayed_num': [1], 'Delayed_time': [95]})\n",
      "('OGG', {'Delayed_num': [1], 'Delayed_time': [138]})\n",
      "('JFK', {'Delayed_num': [4], 'Delayed_time': [220]})\n"
     ]
    },
    {
     "data": {
      "text/plain": [
       "<apache_beam.runners.portability.fn_api_runner.fn_runner.RunnerResult at 0x1686db820>"
      ]
     },
     "execution_count": 26,
     "metadata": {},
     "output_type": "execute_result"
    }
   ],
   "source": [
    "p1 = beam.Pipeline() \n",
    "\n",
    "\n",
    "Delayed_time = (\n",
    "    p1 \n",
    "    | \"Import Data\" >> beam.io.ReadFromText(\"voos_sample.csv\", skip_header_lines=1) # readfromtext method to read the csv file\n",
    "    | \"Split by comma\" >> beam.Map(lambda record: record.split(','))\n",
    "    | \"Filter Delays\" >> beam.Filter(lambda record: int(record[8]) > 0) \n",
    "    | \"Create key value pair\" >> beam.Map(lambda record: (record[4], int(record[8]))) \n",
    "    | \"Sum by key\" >> beam.CombinePerKey(sum)\n",
    ")\n",
    "\n",
    "Delayed_num = (\n",
    "    p1 \n",
    "    | \"Import Data Num\" >> beam.io.ReadFromText(\"voos_sample.csv\", skip_header_lines=1) # readfromtext method to read the csv file\n",
    "    | \"Split by comma Num\" >> beam.Map(lambda record: record.split(',')) \n",
    "    | \"Filter Delays Num\" >> beam.Filter(lambda record: int(record[8]) > 0) \n",
    "    | \"Create key value pair Num\" >> beam.Map(lambda record: (record[4], int(record[8]))) \n",
    "    | \"Count by key\" >> beam.combiners.Count.PerKey() \n",
    ") \n",
    "\n",
    "delay_table = (\n",
    "    {'Delayed_num':Delayed_num,'Delayed_time':Delayed_time} \n",
    "    | beam.CoGroupByKey() \n",
    "    | beam.Map(print)\n",
    ")\n",
    "\n",
    "p1.run() "
   ]
  },
  {
   "cell_type": "code",
   "execution_count": 29,
   "metadata": {},
   "outputs": [
    {
     "name": "stdout",
     "output_type": "stream",
     "text": [
      "('LAX', {'Delayed_num': [4], 'Delayed_time': [92]})\n",
      "('HNL', {'Delayed_num': [1], 'Delayed_time': [15]})\n",
      "('DFW', {'Delayed_num': [1], 'Delayed_time': [95]})\n",
      "('OGG', {'Delayed_num': [1], 'Delayed_time': [138]})\n",
      "('JFK', {'Delayed_num': [4], 'Delayed_time': [220]})\n"
     ]
    },
    {
     "data": {
      "text/plain": [
       "<apache_beam.runners.portability.fn_api_runner.fn_runner.RunnerResult at 0x13dde75b0>"
      ]
     },
     "execution_count": 29,
     "metadata": {},
     "output_type": "execute_result"
    }
   ],
   "source": [
    "# PAR DO => do something in parallel \n",
    "# create and customise functions and not depend on built in functions used and Pardo to be processed in parallel \n",
    "\n",
    "import apache_beam as beam \n",
    "\n",
    "p1 = beam.Pipeline() \n",
    "\n",
    "# function recieves a beam do function \n",
    "# when using a beam function, every class that function is created must return a single record \n",
    "class Filter(beam.DoFn):\n",
    "    # function process and parameters \n",
    "    def process(self, record):\n",
    "        if int(record[8]) > 0:\n",
    "            return [record] \n",
    "\n",
    "Delayed_time = (\n",
    "    p1 \n",
    "    | \"Import Data\" >> beam.io.ReadFromText(\"voos_sample.csv\", skip_header_lines=1) # readfromtext method to read the csv file\n",
    "    | \"Split by comma\" >> beam.Map(lambda record: record.split(','))\n",
    "    | \"Filter Delays\" >> beam.ParDo(Filter()) \n",
    "    | \"Create key value pair\" >> beam.Map(lambda record: (record[4], int(record[8]))) \n",
    "    | \"Sum by key\" >> beam.CombinePerKey(sum)\n",
    ")\n",
    "\n",
    "Delayed_num = (\n",
    "    p1 \n",
    "    | \"Import Data Num\" >> beam.io.ReadFromText(\"voos_sample.csv\", skip_header_lines=1) # readfromtext method to read the csv file\n",
    "    | \"Split by comma Num\" >> beam.Map(lambda record: record.split(',')) \n",
    "    | \"Filter Delays Num\" >> beam.ParDo(Filter())\n",
    "    | \"Create key value pair Num\" >> beam.Map(lambda record: (record[4], int(record[8]))) \n",
    "    | \"Count by key\" >> beam.combiners.Count.PerKey() \n",
    ") \n",
    "\n",
    "delay_table = (\n",
    "    {'Delayed_num':Delayed_num,'Delayed_time':Delayed_time} \n",
    "    | beam.CoGroupByKey() \n",
    "    | beam.Map(print)\n",
    ")\n",
    "\n",
    "p1.run() \n",
    "\n",
    "\n"
   ]
  },
  {
   "cell_type": "code",
   "execution_count": null,
   "metadata": {},
   "outputs": [],
   "source": []
  }
 ],
 "metadata": {
  "kernelspec": {
   "display_name": "Python 3.10.6 64-bit",
   "language": "python",
   "name": "python3"
  },
  "language_info": {
   "codemirror_mode": {
    "name": "ipython",
    "version": 3
   },
   "file_extension": ".py",
   "mimetype": "text/x-python",
   "name": "python",
   "nbconvert_exporter": "python",
   "pygments_lexer": "ipython3",
   "version": "3.10.6"
  },
  "orig_nbformat": 4,
  "vscode": {
   "interpreter": {
    "hash": "b0fa6594d8f4cbf19f97940f81e996739fb7646882a419484c72d19e05852a7e"
   }
  }
 },
 "nbformat": 4,
 "nbformat_minor": 2
}
